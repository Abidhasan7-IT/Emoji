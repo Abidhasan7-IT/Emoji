{
 "cells": [
  {
   "cell_type": "code",
   "execution_count": null,
   "metadata": {},
   "outputs": [],
   "source": [
    "import emoji\n",
    "\n",
    "def  text_toemoji(text):\n",
    "    return emoji.emojize(text)\n",
    "\n",
    "input_text= input(\"Enter text For Emoji: \")\n",
    "\n",
    "Emoji_convert= text_toemoji(input_text)\n",
    "\n",
    "print(\"Converted to Emoji: \"+ Emoji_convert)\n"
   ]
  }
 ],
 "metadata": {
  "kernelspec": {
   "display_name": "Python 3",
   "language": "python",
   "name": "python3"
  },
  "language_info": {
   "codemirror_mode": {
    "name": "ipython",
    "version": 3
   },
   "file_extension": ".py",
   "mimetype": "text/x-python",
   "name": "python",
   "nbconvert_exporter": "python",
   "pygments_lexer": "ipython3",
   "version": "3.12.0"
  }
 },
 "nbformat": 4,
 "nbformat_minor": 2
}
